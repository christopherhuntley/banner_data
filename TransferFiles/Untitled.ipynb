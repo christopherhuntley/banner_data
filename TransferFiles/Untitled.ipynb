{
 "cells": [
  {
   "cell_type": "code",
   "execution_count": null,
   "id": "cabafb58-69a4-494f-be43-8f35918b8078",
   "metadata": {},
   "outputs": [],
   "source": [
    "with data as (select * from `bigquery-export-352717.analytics_307522449.events_*`),\n",
    "unnested as (\n",
    "  SELECT \n",
    "  event_date,\n",
    "  event_timestamp,\n",
    "  event_name,\n",
    "  user_pseudo_id,\n",
    "  device.category,\n",
    "  traffic_source.medium,\n",
    "  traffic_source.source,\n",
    "  key, \n",
    "  value.string_value, \n",
    "  value.int_value\n",
    "  FROM data, UNNEST(event_params) as params),\n",
    "Str as (\n",
    "  Select \n",
    "    event_date,\n",
    "    event_timestamp,\n",
    "    event_name,\n",
    "    user_pseudo_id,\n",
    "    category,\n",
    "    medium,\n",
    "    source,\n",
    "    page_location,\n",
    "    campaign\n",
    "  from unnested\n",
    "  pivot (any_value (string_value) for key in ('page_referrer', 'page_location', 'term', 'campaign'))\n",
    "  ),\n",
    "inte as (\n",
    "  select \n",
    "  event_timestamp,\n",
    "  event_name,\n",
    "  user_pseudo_id,\n",
    "  firebase_conversion,\n",
    "  ga_session_id\n",
    "  from unnested\n",
    "  pivot (any_value (int_value) for key in ('firebase_conversion', 'ga_session_id'))\n",
    "  ),\n",
    "allrows as( select \n",
    "    str.event_date,\n",
    "    str.event_timestamp,\n",
    "    str.event_name,\n",
    "    str.user_pseudo_id,\n",
    "    category,\n",
    "    medium,\n",
    "    source,\n",
    "    page_location,\n",
    "    campaign,\n",
    "    inte.firebase_conversion,\n",
    "    inte.ga_session_id\n",
    "  from str\n",
    "  inner join inte on str.event_name=inte.event_name and str.user_pseudo_id=inte.user_pseudo_id and str.event_timestamp=inte.event_timestamp\n",
    "  where page_location is not null and firebase_conversion is not null\n",
    "  order by event_timestamp, firebase_conversion desc)"
   ]
  }
 ],
 "metadata": {
  "kernelspec": {
   "display_name": "Python 3 (ipykernel)",
   "language": "python",
   "name": "python3"
  },
  "language_info": {
   "codemirror_mode": {
    "name": "ipython",
    "version": 3
   },
   "file_extension": ".py",
   "mimetype": "text/x-python",
   "name": "python",
   "nbconvert_exporter": "python",
   "pygments_lexer": "ipython3",
   "version": "3.8.13"
  }
 },
 "nbformat": 4,
 "nbformat_minor": 5
}
