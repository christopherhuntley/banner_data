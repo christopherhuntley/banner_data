{
 "cells": [
  {
   "cell_type": "markdown",
   "id": "0e8fb8e3-a024-476a-9cd4-7e15b8d8d17e",
   "metadata": {},
   "source": [
    "# Extract/Load/Transform \n",
    "**SQLite $\\rightarrow$ BigQuery**\n",
    "\n",
    "This notebook steps through the process of ...\n",
    "1. extracting data from a local SQLite database\n",
    "2. loading it into a BigQuery dataset\n",
    "3. transforming the data to suit BigQuery's columnar tech\n",
    "4. cleaning up ELT artifacts"
   ]
  },
  {
   "cell_type": "markdown",
   "id": "a2cb0d8a-556e-4368-b4ba-ec702f85bd95",
   "metadata": {},
   "source": [
    "## **Preliminaries**"
   ]
  },
  {
   "cell_type": "code",
   "execution_count": null,
   "id": "c96453f4-ce9c-4f58-9fb6-b6cbc2cabb8c",
   "metadata": {},
   "outputs": [],
   "source": [
    "# Install required python libaries \n",
    "!pip install --user --upgrade google-api-python-client\n",
    "!pip install --user google-cloud-bigquery\n",
    "!pip install --user pyarrow\n",
    "!pip install --upgrade pandas-gbq 'google-cloud-bigquery[bqstorage,pandas]'\n",
    "!pip install --user pyarrow\n",
    "!pip install --user fastparquet"
   ]
  },
  {
   "cell_type": "markdown",
   "id": "7b5d90a6-86e7-4ab1-9c7a-66aba0e0c3ed",
   "metadata": {},
   "source": [
    "## **1. Extract from SQLite**"
   ]
  },
  {
   "cell_type": "code",
   "execution_count": 13,
   "id": "92411c27-075a-48c7-b203-de3f2fb9db11",
   "metadata": {},
   "outputs": [],
   "source": [
    "# Load %%sql magic\n",
    "%load_ext sql\n",
    "\n",
    "import pandas as pd\n",
    "import sqlite3\n",
    "\n",
    "# Create/Connect to local CDW\n",
    "%sql sqlite:///CourseDataWarehouse.db"
   ]
  },
  {
   "cell_type": "code",
   "execution_count": 97,
   "id": "2d8ba7cd-b441-4053-af97-b49d4cf35572",
   "metadata": {
    "collapsed": true,
    "jupyter": {
     "outputs_hidden": true,
     "source_hidden": true
    },
    "tags": []
   },
   "outputs": [
    {
     "name": "stdout",
     "output_type": "stream",
     "text": [
      "TIMECODES_DIM\n"
     ]
    }
   ],
   "source": [
    "# Export to CSVs for bulk storage\n",
    "from sqlalchemy import create_engine  \n",
    "\n",
    "def table_export(tnames, dest):\n",
    "    engine = create_engine(\"sqlite:///CourseDataWarehouse.db\")\n",
    "    with engine.connect() as conn, conn.begin():\n",
    "        for tname in tnames:\n",
    "            print(tname)\n",
    "            df = pd.read_sql(tname,conn)\n",
    "            df.to_csv(f'{dest}/{tname}.csv')\n",
    "            df.to_parquet(f'{dest}/{tname}.parquet',engine='pyarrow')\n",
    "\n",
    "            \n",
    "\n",
    "table_export( ['PROGRAMS_DIM','LOCATIONS_DIM',\n",
    "             'DAYS_OF_WEEK_UTIL','TERMS_DIM',\n",
    "             'TIMECODES_DIM','TIME_SEGMENTS_UTIL', 'TIMECODE_SEGMENTS_INTERSECT',\n",
    "             'INSTRUCTORS_DIM','COURSE_OFFERINGS_DIM',\n",
    "             'CLASS_MEETING_FACTS','COURSE_SECTION_FACTS'\n",
    "            ], \n",
    "            'TransferFiles')\n",
    "'TransferFiles')\n"
   ]
  },
  {
   "cell_type": "markdown",
   "id": "e75e2e62-9f3a-4db3-85e0-0443a01f2e1b",
   "metadata": {},
   "source": [
    "## **2. Load into BigQuery**"
   ]
  },
  {
   "cell_type": "markdown",
   "id": "4a748379-2606-4be6-a77e-937859fb931c",
   "metadata": {},
   "source": [
    "### **Authenticate with Google to get BigQuery access**"
   ]
  },
  {
   "cell_type": "code",
   "execution_count": null,
   "id": "ede3ab00-0a20-49b5-80fb-e9a5744fc5f6",
   "metadata": {},
   "outputs": [],
   "source": [
    "%%bash\n",
    "gcloud auth application-default login"
   ]
  },
  {
   "cell_type": "markdown",
   "id": "637c2908-1366-4a4a-92cd-69ff0d614ca7",
   "metadata": {},
   "source": [
    "### **Use the BigQuery Python API to load the tables**"
   ]
  },
  {
   "cell_type": "code",
   "execution_count": 5,
   "id": "f9f1a48b-3baf-4569-b296-5cda83d582c0",
   "metadata": {
    "tags": []
   },
   "outputs": [
    {
     "name": "stderr",
     "output_type": "stream",
     "text": [
      "/Users/chuntley/.local/lib/python3.8/site-packages/google/auth/_default.py:83: UserWarning: Your application has authenticated using end user credentials from Google Cloud SDK without a quota project. You might receive a \"quota exceeded\" or \"API not enabled\" error. We recommend you rerun `gcloud auth application-default login` and make sure a quota project is added. Or you can use service accounts instead. For more information about service accounts, see https://cloud.google.com/docs/authentication/\n",
      "  warnings.warn(_CLOUD_SDK_CREDENTIALS_WARNING)\n"
     ]
    },
    {
     "name": "stdout",
     "output_type": "stream",
     "text": [
      "TransferFiles/CLASS_MEETING_FACTS.parquet\n",
      "data6510-banner-project.course_data_warehouse.IMPORT_CLASS_MEETING_FACTS\n",
      "Loaded 509152 rows and 8 columns to data6510-banner-project.course_data_warehouse.IMPORT_CLASS_MEETING_FACTS\n",
      "TransferFiles/COURSE_SECTION_FACTS.parquet\n",
      "data6510-banner-project.course_data_warehouse.IMPORT_COURSE_SECTION_FACTS\n",
      "Loaded 28971 rows and 9 columns to data6510-banner-project.course_data_warehouse.IMPORT_COURSE_SECTION_FACTS\n",
      "TransferFiles/COURSE_OFFERINGS_DIM.parquet\n",
      "data6510-banner-project.course_data_warehouse.IMPORT_COURSE_OFFERINGS_DIM\n",
      "Loaded 28971 rows and 14 columns to data6510-banner-project.course_data_warehouse.IMPORT_COURSE_OFFERINGS_DIM\n",
      "TransferFiles/DAYS_OF_WEEK_UTIL.parquet\n",
      "data6510-banner-project.course_data_warehouse.IMPORT_DAYS_OF_WEEK_UTIL\n",
      "Loaded 7 rows and 3 columns to data6510-banner-project.course_data_warehouse.IMPORT_DAYS_OF_WEEK_UTIL\n",
      "TransferFiles/INSTRUCTORS_DIM.parquet\n",
      "data6510-banner-project.course_data_warehouse.IMPORT_INSTRUCTORS_DIM\n",
      "Loaded 1570 rows and 3 columns to data6510-banner-project.course_data_warehouse.IMPORT_INSTRUCTORS_DIM\n",
      "TransferFiles/LOCATIONS_DIM.parquet\n",
      "data6510-banner-project.course_data_warehouse.IMPORT_LOCATIONS_DIM\n",
      "Loaded 247 rows and 6 columns to data6510-banner-project.course_data_warehouse.IMPORT_LOCATIONS_DIM\n",
      "TransferFiles/PROGRAMS_DIM.parquet\n",
      "data6510-banner-project.course_data_warehouse.IMPORT_PROGRAMS_DIM\n",
      "Loaded 177 rows and 5 columns to data6510-banner-project.course_data_warehouse.IMPORT_PROGRAMS_DIM\n",
      "TransferFiles/TERMS_DIM.parquet\n",
      "data6510-banner-project.course_data_warehouse.IMPORT_TERMS_DIM\n",
      "Loaded 36 rows and 7 columns to data6510-banner-project.course_data_warehouse.IMPORT_TERMS_DIM\n",
      "TransferFiles/TIMECODES_DIM.parquet\n",
      "data6510-banner-project.course_data_warehouse.IMPORT_TIMECODES_DIM\n",
      "Loaded 1386 rows and 6 columns to data6510-banner-project.course_data_warehouse.IMPORT_TIMECODES_DIM\n",
      "TransferFiles/TIME_SEGMENTS_UTIL.parquet\n",
      "data6510-banner-project.course_data_warehouse.IMPORT_TIME_SEGMENTS_UTIL\n",
      "Loaded 167 rows and 3 columns to data6510-banner-project.course_data_warehouse.IMPORT_TIME_SEGMENTS_UTIL\n",
      "TransferFiles/TIMECODE_SEGMENTS_INTERSECT.parquet\n",
      "data6510-banner-project.course_data_warehouse.IMPORT_TIMECODE_SEGMENTS_INTERSECT\n",
      "Loaded 53967 rows and 2 columns to data6510-banner-project.course_data_warehouse.IMPORT_TIMECODE_SEGMENTS_INTERSECT\n"
     ]
    }
   ],
   "source": [
    "from google.cloud import bigquery\n",
    "\n",
    "def load_bq_transfers(tables,project,dataset):\n",
    "    \n",
    "    '''\n",
    "    Loads local data into BigQuery. \n",
    "    \n",
    "    Input Params\n",
    "    - tables -- a list of table names (one per data file)\n",
    "    - project -- a BigQuery project name\n",
    "    - dataset -- the database name\n",
    "    \n",
    "    Adapted from https://cloud.google.com/bigquery/docs/batch-loading-data\n",
    "    '''\n",
    "    \n",
    "    # Construct a BigQuery client object\n",
    "    client = bigquery.Client(project=project)\n",
    "\n",
    "    # Configure the upload job\n",
    "    job_config = bigquery.LoadJobConfig(\n",
    "        source_format=bigquery.SourceFormat.PARQUET\n",
    "    )\n",
    "    \n",
    "    # Load each table, one at a time\n",
    "    for table in tables:\n",
    "        # Use table name to constuct paths and destination tables\n",
    "        file_path = f\"TransferFiles/{table}.parquet\"\n",
    "        table_id = f\"{project}.{dataset}.IMPORT_{table}\"\n",
    "        print(file_path)\n",
    "        print(table_id)\n",
    "        \n",
    "        # Load using the selected file\n",
    "        with open(file_path, \"rb\") as source_file:\n",
    "            job = client.load_table_from_file(source_file, table_id, job_config=job_config)\n",
    "        job.result()  # Waits for the job to complete.\n",
    "\n",
    "        # Check that it worked\n",
    "        table = client.get_table(table_id)  # Make an API request.\n",
    "        print(\n",
    "            \"Loaded {} rows and {} columns to {}\".format(\n",
    "                table.num_rows, len(table.schema), table_id\n",
    "            )\n",
    "        )\n",
    "\n",
    "# A configurable list of tables\n",
    "tables = [\"CLASS_MEETING_FACTS\",\n",
    "          \"COURSE_SECTION_FACTS\",\n",
    "          \"COURSE_OFFERINGS_DIM\",\n",
    "          \"DAYS_OF_WEEK_UTIL\",\n",
    "          \"INSTRUCTORS_DIM\",\n",
    "          \"LOCATIONS_DIM\",\n",
    "          \"PROGRAMS_DIM\",\n",
    "          \"TERMS_DIM\",\n",
    "          \"TIMECODES_DIM\",\n",
    "          \"TIME_SEGMENTS_UTIL\",\n",
    "          \"TIMECODE_SEGMENTS_INTERSECT\",\n",
    "         ]\n",
    "\n",
    "# The specific project and dataset; in Airflow use environment vars\n",
    "# project = 'banner-data-366520'\n",
    "# dataset = 'course_data_warehouse'\n",
    "\n",
    "project = 'data6510-banner-project'\n",
    "dataset = 'course_data_warehouse'\n",
    "\n",
    "# call the function to execute the load\n",
    "load_bq_transfers(tables,project,dataset)"
   ]
  },
  {
   "cell_type": "markdown",
   "id": "4e696969-a54e-4bd6-ab4a-a590344ed06b",
   "metadata": {},
   "source": [
    "## **3. Transform to build BigQuery tables**"
   ]
  },
  {
   "cell_type": "code",
   "execution_count": 6,
   "id": "b36b9e5f-53fd-4735-b4e1-683ea1ccbcda",
   "metadata": {
    "tags": []
   },
   "outputs": [
    {
     "name": "stdout",
     "output_type": "stream",
     "text": [
      "The google.cloud.bigquery extension is already loaded. To reload it, use:\n",
      "  %reload_ext google.cloud.bigquery\n",
      "env: GCLOUD_PROJECT=data6510-banner-project\n"
     ]
    }
   ],
   "source": [
    "# Configure BigQuery magic\n",
    "\n",
    "%load_ext google.cloud.bigquery\n",
    "# %env GCLOUD_PROJECT=banner-data-366520\n",
    "%env GCLOUD_PROJECT=data6510-banner-project"
   ]
  },
  {
   "cell_type": "markdown",
   "id": "0a5cda3a-4d83-491a-89e4-5415eb9ea824",
   "metadata": {},
   "source": [
    "### **First, A few random BigQuery Quirks**\n",
    "\n",
    "In moving from SQLite we will need to account for the following BigQuery quirks:\n",
    "- **Read-optimized;** Writing new data is **much** more expensive than storing it \n",
    "- **No explicit primary keys;** essentially, every column is treated like an index anyway\n",
    "- **No foreign key constraints;** the data is essentially \"write once\" anyway, so no need to keep checking integrity\n",
    "- **Uses partitioning and clustering** to segment rows into smaller chunks; only using segments you actually need saves $"
   ]
  },
  {
   "cell_type": "markdown",
   "id": "206fc2d0-9ffb-4d8a-bf64-c985fea37794",
   "metadata": {},
   "source": [
    "### The `TERMS_DIM` Table"
   ]
  },
  {
   "cell_type": "code",
   "execution_count": 7,
   "id": "b011448a-27a3-4308-abe7-b77210c1214d",
   "metadata": {
    "tags": []
   },
   "outputs": [
    {
     "name": "stderr",
     "output_type": "stream",
     "text": [
      "Query complete after 0.05s: 100%|██████████| 1/1 [00:00<00:00, 381.54query/s] \n"
     ]
    },
    {
     "data": {
      "text/html": [
       "<div>\n",
       "<style scoped>\n",
       "    .dataframe tbody tr th:only-of-type {\n",
       "        vertical-align: middle;\n",
       "    }\n",
       "\n",
       "    .dataframe tbody tr th {\n",
       "        vertical-align: top;\n",
       "    }\n",
       "\n",
       "    .dataframe thead th {\n",
       "        text-align: right;\n",
       "    }\n",
       "</style>\n",
       "<table border=\"1\" class=\"dataframe\">\n",
       "  <thead>\n",
       "    <tr style=\"text-align: right;\">\n",
       "      <th></th>\n",
       "    </tr>\n",
       "  </thead>\n",
       "  <tbody>\n",
       "  </tbody>\n",
       "</table>\n",
       "</div>"
      ],
      "text/plain": [
       "Empty DataFrame\n",
       "Columns: []\n",
       "Index: []"
      ]
     },
     "execution_count": 7,
     "metadata": {},
     "output_type": "execute_result"
    }
   ],
   "source": [
    "%%bigquery\n",
    "DROP TABLE IF EXISTS course_data_warehouse.TERMS_DIM; \n",
    "CREATE TABLE course_data_warehouse.TERMS_DIM (\n",
    "    -- Note: no PK constraint\n",
    "    TermID INTEGER NOT NULL, \n",
    "    TermCode STRING NOT NULL,\n",
    "    TermName STRING NOT NULL,\n",
    "    CalendarYear INTEGER NOT NULL,\n",
    "    SchoolYearEnd INTEGER NOT NULL,\n",
    "    SchoolYearText STRING NOT NULL\n",
    ") AS\n",
    "SELECT TermID,TermCode,TermName,CalendarYear,SchoolYearEnd,SchoolYearText\n",
    "FROM course_data_warehouse.IMPORT_TERMS_DIM\n",
    "ORDER BY TermID;"
   ]
  },
  {
   "cell_type": "markdown",
   "id": "1479adad-2f5b-4313-91dc-abe4ab90159d",
   "metadata": {},
   "source": [
    "### The `PROGRAMS_DIM` Table"
   ]
  },
  {
   "cell_type": "code",
   "execution_count": 8,
   "id": "7349b1c8-450a-4e0c-b23e-5ab354055df0",
   "metadata": {},
   "outputs": [
    {
     "name": "stderr",
     "output_type": "stream",
     "text": [
      "Query complete after 0.00s: 100%|██████████| 1/1 [00:00<00:00, 1044.92query/s] \n"
     ]
    },
    {
     "data": {
      "text/html": [
       "<div>\n",
       "<style scoped>\n",
       "    .dataframe tbody tr th:only-of-type {\n",
       "        vertical-align: middle;\n",
       "    }\n",
       "\n",
       "    .dataframe tbody tr th {\n",
       "        vertical-align: top;\n",
       "    }\n",
       "\n",
       "    .dataframe thead th {\n",
       "        text-align: right;\n",
       "    }\n",
       "</style>\n",
       "<table border=\"1\" class=\"dataframe\">\n",
       "  <thead>\n",
       "    <tr style=\"text-align: right;\">\n",
       "      <th></th>\n",
       "    </tr>\n",
       "  </thead>\n",
       "  <tbody>\n",
       "  </tbody>\n",
       "</table>\n",
       "</div>"
      ],
      "text/plain": [
       "Empty DataFrame\n",
       "Columns: []\n",
       "Index: []"
      ]
     },
     "execution_count": 8,
     "metadata": {},
     "output_type": "execute_result"
    }
   ],
   "source": [
    "%%bigquery\n",
    "DROP TABLE IF EXISTS course_data_warehouse.PROGRAMS_DIM;\n",
    "CREATE TABLE course_data_warehouse.PROGRAMS_DIM (\n",
    "    ProgramID INTEGER NOT NULL,\n",
    "    ProgCode STRING NOT NULL,\n",
    "    ProgName STRING NOT NULL,\n",
    "    School STRING NOT NULL\n",
    ") AS\n",
    "SELECT ProgramID, ProgCode,ProgName,School\n",
    "FROM course_data_warehouse.IMPORT_PROGRAMS_DIM\n",
    "ORDER BY ProgramID;"
   ]
  },
  {
   "cell_type": "markdown",
   "id": "7c97c372-80b3-4a96-968e-5893f955063d",
   "metadata": {},
   "source": [
    "### The `LOCATIONS_DIM` Table"
   ]
  },
  {
   "cell_type": "code",
   "execution_count": 9,
   "id": "5f131a8f-2704-437c-b91b-e587461d7916",
   "metadata": {},
   "outputs": [
    {
     "name": "stderr",
     "output_type": "stream",
     "text": [
      "Query complete after 0.00s: 100%|██████████| 1/1 [00:00<00:00, 1337.04query/s] \n"
     ]
    },
    {
     "data": {
      "text/html": [
       "<div>\n",
       "<style scoped>\n",
       "    .dataframe tbody tr th:only-of-type {\n",
       "        vertical-align: middle;\n",
       "    }\n",
       "\n",
       "    .dataframe tbody tr th {\n",
       "        vertical-align: top;\n",
       "    }\n",
       "\n",
       "    .dataframe thead th {\n",
       "        text-align: right;\n",
       "    }\n",
       "</style>\n",
       "<table border=\"1\" class=\"dataframe\">\n",
       "  <thead>\n",
       "    <tr style=\"text-align: right;\">\n",
       "      <th></th>\n",
       "    </tr>\n",
       "  </thead>\n",
       "  <tbody>\n",
       "  </tbody>\n",
       "</table>\n",
       "</div>"
      ],
      "text/plain": [
       "Empty DataFrame\n",
       "Columns: []\n",
       "Index: []"
      ]
     },
     "execution_count": 9,
     "metadata": {},
     "output_type": "execute_result"
    }
   ],
   "source": [
    "%%bigquery\n",
    "DROP TABLE IF EXISTS course_data_warehouse.LOCATIONS_DIM;\n",
    "CREATE TABLE course_data_warehouse.LOCATIONS_DIM (\n",
    "    LocationID INTEGER NOT NULL, \n",
    "    LocationCode STRING NOT NULL, \n",
    "    Building STRING, \n",
    "    Room STRING, \n",
    "    Capacity INTEGER, \n",
    "    SeatsMax INTEGER\n",
    ") AS\n",
    "SELECT LocationID, LocationCode, Building, Room, Capacity, SeatsMax\n",
    "FROM course_data_warehouse.IMPORT_LOCATIONS_DIM\n",
    "ORDER BY LocationID;"
   ]
  },
  {
   "cell_type": "markdown",
   "id": "f9e1c374-fd65-4fb3-bf9d-2ecec5b9e235",
   "metadata": {},
   "source": [
    "### The `DAYS_OF_WEEK_UTIL` Table"
   ]
  },
  {
   "cell_type": "code",
   "execution_count": 10,
   "id": "dc7b79e3-15a0-4f9b-bee5-ce6c8359455c",
   "metadata": {},
   "outputs": [
    {
     "name": "stderr",
     "output_type": "stream",
     "text": [
      "Query complete after 0.00s: 100%|██████████| 1/1 [00:00<00:00, 1040.77query/s]\n"
     ]
    },
    {
     "data": {
      "text/html": [
       "<div>\n",
       "<style scoped>\n",
       "    .dataframe tbody tr th:only-of-type {\n",
       "        vertical-align: middle;\n",
       "    }\n",
       "\n",
       "    .dataframe tbody tr th {\n",
       "        vertical-align: top;\n",
       "    }\n",
       "\n",
       "    .dataframe thead th {\n",
       "        text-align: right;\n",
       "    }\n",
       "</style>\n",
       "<table border=\"1\" class=\"dataframe\">\n",
       "  <thead>\n",
       "    <tr style=\"text-align: right;\">\n",
       "      <th></th>\n",
       "    </tr>\n",
       "  </thead>\n",
       "  <tbody>\n",
       "  </tbody>\n",
       "</table>\n",
       "</div>"
      ],
      "text/plain": [
       "Empty DataFrame\n",
       "Columns: []\n",
       "Index: []"
      ]
     },
     "execution_count": 10,
     "metadata": {},
     "output_type": "execute_result"
    }
   ],
   "source": [
    "%%bigquery\n",
    "DROP TABLE IF EXISTS course_data_warehouse.DAYS_OF_WEEK_UTIL;\n",
    "CREATE TABLE course_data_warehouse.DAYS_OF_WEEK_UTIL (\n",
    "    DayCode STRING NOT NULL, \n",
    "    DayShort STRING NOT NULL, \n",
    "    DayLong STRING NOT NULL\n",
    ") AS\n",
    "SELECT *\n",
    "FROM course_data_warehouse.IMPORT_DAYS_OF_WEEK_UTIL;"
   ]
  },
  {
   "cell_type": "markdown",
   "id": "964b1e3f-a200-4b39-95e2-28f1025e10b3",
   "metadata": {},
   "source": [
    "### The `TIME_SEGMENTS_UTIL` Table"
   ]
  },
  {
   "cell_type": "code",
   "execution_count": 11,
   "id": "148b5ec2-46e5-4e19-b939-f3f4c41e69b9",
   "metadata": {},
   "outputs": [
    {
     "name": "stderr",
     "output_type": "stream",
     "text": [
      "Query complete after 0.00s: 100%|██████████| 1/1 [00:00<00:00, 1661.11query/s] \n"
     ]
    },
    {
     "data": {
      "text/html": [
       "<div>\n",
       "<style scoped>\n",
       "    .dataframe tbody tr th:only-of-type {\n",
       "        vertical-align: middle;\n",
       "    }\n",
       "\n",
       "    .dataframe tbody tr th {\n",
       "        vertical-align: top;\n",
       "    }\n",
       "\n",
       "    .dataframe thead th {\n",
       "        text-align: right;\n",
       "    }\n",
       "</style>\n",
       "<table border=\"1\" class=\"dataframe\">\n",
       "  <thead>\n",
       "    <tr style=\"text-align: right;\">\n",
       "      <th></th>\n",
       "    </tr>\n",
       "  </thead>\n",
       "  <tbody>\n",
       "  </tbody>\n",
       "</table>\n",
       "</div>"
      ],
      "text/plain": [
       "Empty DataFrame\n",
       "Columns: []\n",
       "Index: []"
      ]
     },
     "execution_count": 11,
     "metadata": {},
     "output_type": "execute_result"
    }
   ],
   "source": [
    "%%bigquery\n",
    "DROP TABLE IF EXISTS course_data_warehouse.TIME_SEGMENTS_UTIL;\n",
    "CREATE TABLE course_data_warehouse.TIME_SEGMENTS_UTIL (\n",
    "    TimeSegmentID INTEGER NOT NULL, \n",
    "    StartSegTime TIME NOT NULL, \n",
    "    EndSegTime TIME NOT NULL\n",
    ") AS\n",
    "SELECT \n",
    "    TimeSegmentID, \n",
    "    \n",
    "    -- STRING --> TIME\n",
    "    parse_time('%R',StartSegTime) AS StartTime, \n",
    "    parse_time('%R',EndSegTime) AS EndTime\n",
    "FROM course_data_warehouse.IMPORT_TIME_SEGMENTS_UTIL;"
   ]
  },
  {
   "cell_type": "markdown",
   "id": "674cdb28-2b44-4be6-ba26-b9744a58a659",
   "metadata": {},
   "source": [
    "### The `TIMECODES_DIM` Table"
   ]
  },
  {
   "cell_type": "code",
   "execution_count": 12,
   "id": "59d28f64-678c-45b4-8e0a-dab09a335304",
   "metadata": {},
   "outputs": [
    {
     "name": "stderr",
     "output_type": "stream",
     "text": [
      "Query complete after 0.00s: 100%|██████████| 1/1 [00:00<00:00, 848.19query/s] \n"
     ]
    },
    {
     "data": {
      "text/html": [
       "<div>\n",
       "<style scoped>\n",
       "    .dataframe tbody tr th:only-of-type {\n",
       "        vertical-align: middle;\n",
       "    }\n",
       "\n",
       "    .dataframe tbody tr th {\n",
       "        vertical-align: top;\n",
       "    }\n",
       "\n",
       "    .dataframe thead th {\n",
       "        text-align: right;\n",
       "    }\n",
       "</style>\n",
       "<table border=\"1\" class=\"dataframe\">\n",
       "  <thead>\n",
       "    <tr style=\"text-align: right;\">\n",
       "      <th></th>\n",
       "    </tr>\n",
       "  </thead>\n",
       "  <tbody>\n",
       "  </tbody>\n",
       "</table>\n",
       "</div>"
      ],
      "text/plain": [
       "Empty DataFrame\n",
       "Columns: []\n",
       "Index: []"
      ]
     },
     "execution_count": 12,
     "metadata": {},
     "output_type": "execute_result"
    }
   ],
   "source": [
    "%%bigquery\n",
    "DROP TABLE IF EXISTS course_data_warehouse.TIMECODES_DIM;\n",
    "CREATE TABLE course_data_warehouse.TIMECODES_DIM (\n",
    "    TimeCodeID INTEGER NOT NULL, \n",
    "    DayCode STRING,\n",
    "    DayNum INTEGER,\n",
    "    StartTime TIME, \n",
    "    EndTime TIME, \n",
    "    DurationMins FLOAT64\n",
    ") AS\n",
    "SELECT \n",
    "    TimeCodeID, \n",
    "    DayCode,DayNum,\n",
    "    \n",
    "    -- STRING --> TIME\n",
    "    parse_time('%T',StartTime) AS StartTime, \n",
    "    parse_time('%T',EndTime) AS EndTime, \n",
    "    DurationMins\n",
    "FROM course_data_warehouse.IMPORT_TIMECODES_DIM;"
   ]
  },
  {
   "cell_type": "markdown",
   "id": "fce646d8-4b9e-4b24-b040-03231eb3f368",
   "metadata": {},
   "source": [
    "### The `TIMECODE_SEGMENTS_INTERSECT` Table"
   ]
  },
  {
   "cell_type": "code",
   "execution_count": 13,
   "id": "e9d0e517-4747-4c1c-b19d-35d775738d0c",
   "metadata": {},
   "outputs": [
    {
     "name": "stderr",
     "output_type": "stream",
     "text": [
      "Query complete after 0.00s: 100%|██████████| 1/1 [00:00<00:00, 1689.21query/s] \n"
     ]
    },
    {
     "data": {
      "text/html": [
       "<div>\n",
       "<style scoped>\n",
       "    .dataframe tbody tr th:only-of-type {\n",
       "        vertical-align: middle;\n",
       "    }\n",
       "\n",
       "    .dataframe tbody tr th {\n",
       "        vertical-align: top;\n",
       "    }\n",
       "\n",
       "    .dataframe thead th {\n",
       "        text-align: right;\n",
       "    }\n",
       "</style>\n",
       "<table border=\"1\" class=\"dataframe\">\n",
       "  <thead>\n",
       "    <tr style=\"text-align: right;\">\n",
       "      <th></th>\n",
       "    </tr>\n",
       "  </thead>\n",
       "  <tbody>\n",
       "  </tbody>\n",
       "</table>\n",
       "</div>"
      ],
      "text/plain": [
       "Empty DataFrame\n",
       "Columns: []\n",
       "Index: []"
      ]
     },
     "execution_count": 13,
     "metadata": {},
     "output_type": "execute_result"
    }
   ],
   "source": [
    "%%bigquery\n",
    "DROP TABLE IF EXISTS course_data_warehouse.TIMECODE_SEGMENTS_INTERSECT;\n",
    "CREATE TABLE course_data_warehouse.TIMECODE_SEGMENTS_INTERSECT (\n",
    "    TimecodeID INTEGER NOT NULL,\n",
    "    TimeSegmentID INTEGER NOT NULL\n",
    ") AS\n",
    "SELECT \n",
    "    TimecodeID, \n",
    "    TimeSegmentID \n",
    "FROM course_data_warehouse.IMPORT_TIMECODE_SEGMENTS_INTERSECT;"
   ]
  },
  {
   "cell_type": "markdown",
   "id": "1ca3e9eb-23d3-4a2e-995d-69180a0bee15",
   "metadata": {},
   "source": [
    "### The `INSTRUCTORS_DIM` Table"
   ]
  },
  {
   "cell_type": "code",
   "execution_count": 14,
   "id": "5ca0affe-8505-4a2f-b619-f7aad7462f5c",
   "metadata": {},
   "outputs": [
    {
     "name": "stderr",
     "output_type": "stream",
     "text": [
      "Query complete after 0.00s: 100%|██████████| 1/1 [00:00<00:00, 804.59query/s] \n"
     ]
    },
    {
     "data": {
      "text/html": [
       "<div>\n",
       "<style scoped>\n",
       "    .dataframe tbody tr th:only-of-type {\n",
       "        vertical-align: middle;\n",
       "    }\n",
       "\n",
       "    .dataframe tbody tr th {\n",
       "        vertical-align: top;\n",
       "    }\n",
       "\n",
       "    .dataframe thead th {\n",
       "        text-align: right;\n",
       "    }\n",
       "</style>\n",
       "<table border=\"1\" class=\"dataframe\">\n",
       "  <thead>\n",
       "    <tr style=\"text-align: right;\">\n",
       "      <th></th>\n",
       "    </tr>\n",
       "  </thead>\n",
       "  <tbody>\n",
       "  </tbody>\n",
       "</table>\n",
       "</div>"
      ],
      "text/plain": [
       "Empty DataFrame\n",
       "Columns: []\n",
       "Index: []"
      ]
     },
     "execution_count": 14,
     "metadata": {},
     "output_type": "execute_result"
    }
   ],
   "source": [
    "%%bigquery\n",
    "DROP TABLE IF EXISTS course_data_warehouse.INSTRUCTORS_DIM;\n",
    "CREATE TABLE course_data_warehouse.INSTRUCTORS_DIM (\n",
    "    InstructorID INTEGER NOT NULL,\n",
    "    InstructorName STRING\n",
    ") AS\n",
    "SELECT \n",
    "    InstructorID,\n",
    "    InstructorName\n",
    "FROM course_data_warehouse.IMPORT_INSTRUCTORS_DIM;"
   ]
  },
  {
   "cell_type": "markdown",
   "id": "c65281a4-2629-4644-a652-b43762eb28fd",
   "metadata": {},
   "source": [
    "### The `COURSE_OFFERINGS_DIM` Table"
   ]
  },
  {
   "cell_type": "code",
   "execution_count": 15,
   "id": "2f34df1d-c100-4c11-b85f-4c68d09790aa",
   "metadata": {},
   "outputs": [
    {
     "name": "stderr",
     "output_type": "stream",
     "text": [
      "Query complete after 0.00s: 100%|██████████| 1/1 [00:00<00:00, 902.58query/s] \n"
     ]
    },
    {
     "data": {
      "text/html": [
       "<div>\n",
       "<style scoped>\n",
       "    .dataframe tbody tr th:only-of-type {\n",
       "        vertical-align: middle;\n",
       "    }\n",
       "\n",
       "    .dataframe tbody tr th {\n",
       "        vertical-align: top;\n",
       "    }\n",
       "\n",
       "    .dataframe thead th {\n",
       "        text-align: right;\n",
       "    }\n",
       "</style>\n",
       "<table border=\"1\" class=\"dataframe\">\n",
       "  <thead>\n",
       "    <tr style=\"text-align: right;\">\n",
       "      <th></th>\n",
       "    </tr>\n",
       "  </thead>\n",
       "  <tbody>\n",
       "  </tbody>\n",
       "</table>\n",
       "</div>"
      ],
      "text/plain": [
       "Empty DataFrame\n",
       "Columns: []\n",
       "Index: []"
      ]
     },
     "execution_count": 15,
     "metadata": {},
     "output_type": "execute_result"
    }
   ],
   "source": [
    "%%bigquery\n",
    "DROP TABLE IF EXISTS course_data_warehouse.COURSE_OFFERINGS_DIM;\n",
    "CREATE TABLE course_data_warehouse.COURSE_OFFERINGS_DIM (\n",
    "    CourseOfferingID INTEGER NOT NULL,\n",
    "    CRN INTEGER NOT NULL, \n",
    "    TermCode STRING, \n",
    "    CourseCode STRING, \n",
    "    Section STRING, \n",
    "    CourseTitle STRING, \n",
    "    CreditsTxt STRING, \n",
    "    CreditsMin FLOAT64, \n",
    "    CreditsMax FLOAT64, \n",
    "    NumStudents INTEGER, \n",
    "    CapStudents INTEGER, \n",
    "    ScheduleSpec STRING, \n",
    "    DeliveryStyle STRING, \n",
    "    ScheduleType STRING\n",
    ") AS\n",
    "SELECT \n",
    "    CourseOfferingID, \n",
    "    CRN, \n",
    "    TermCode, \n",
    "    CourseCode, \n",
    "    Section, \n",
    "    CourseTitle, \n",
    "    CreditsTxt, \n",
    "    CreditsMin, \n",
    "    CreditsMax, \n",
    "    NumStudents, \n",
    "    CapStudents, \n",
    "    ScheduleSpec, \n",
    "    DeliveryStyle, \n",
    "    ScheduleType\n",
    "FROM course_data_warehouse.IMPORT_COURSE_OFFERINGS_DIM\n",
    "ORDER BY CourseOfferingID;"
   ]
  },
  {
   "cell_type": "markdown",
   "id": "bb15416f-9b32-422e-a5be-c078372c3563",
   "metadata": {},
   "source": [
    "### The `COURSE_SECTION_FACTS` Table"
   ]
  },
  {
   "cell_type": "code",
   "execution_count": 17,
   "id": "3ba55657-39f3-451d-99aa-d376dc180da7",
   "metadata": {},
   "outputs": [
    {
     "name": "stderr",
     "output_type": "stream",
     "text": [
      "Query complete after 0.00s: 100%|██████████| 1/1 [00:00<00:00, 876.37query/s] \n"
     ]
    },
    {
     "data": {
      "text/html": [
       "<div>\n",
       "<style scoped>\n",
       "    .dataframe tbody tr th:only-of-type {\n",
       "        vertical-align: middle;\n",
       "    }\n",
       "\n",
       "    .dataframe tbody tr th {\n",
       "        vertical-align: top;\n",
       "    }\n",
       "\n",
       "    .dataframe thead th {\n",
       "        text-align: right;\n",
       "    }\n",
       "</style>\n",
       "<table border=\"1\" class=\"dataframe\">\n",
       "  <thead>\n",
       "    <tr style=\"text-align: right;\">\n",
       "      <th></th>\n",
       "    </tr>\n",
       "  </thead>\n",
       "  <tbody>\n",
       "  </tbody>\n",
       "</table>\n",
       "</div>"
      ],
      "text/plain": [
       "Empty DataFrame\n",
       "Columns: []\n",
       "Index: []"
      ]
     },
     "execution_count": 17,
     "metadata": {},
     "output_type": "execute_result"
    }
   ],
   "source": [
    "%%bigquery\n",
    "DROP TABLE IF EXISTS course_data_warehouse.COURSE_SECTION_FACTS;\n",
    "CREATE TABLE course_data_warehouse.COURSE_SECTION_FACTS (\n",
    "    CourseSectionFactID INTEGER NOT NULL,\n",
    "    CourseOfferingID INTEGER NOT NULL,\n",
    "    ProgramID INTEGER NOT NULL,\n",
    "    PrimaryInstructorID INTEGER,\n",
    "    TermID INTEGER,\n",
    "    FirstClass DATE,\n",
    "    LastClass DATE,\n",
    "    NumMeetings INTEGER DEFAULT 0,\n",
    "    MeetingHours FLOAT64,\n",
    "    \n",
    "    SchoolYearEnd INTEGER, -- for partitioning\n",
    "    TermCode STRING        -- for clustering\n",
    ") \n",
    "PARTITION BY\n",
    "    -- Each school year until 2040\n",
    "    RANGE_BUCKET(SchoolYearEnd, GENERATE_ARRAY(2015,2040,1)) \n",
    "CLUSTER BY\n",
    "    -- Each specific term (e.g., 'Fall2014')\n",
    "    TermCode \n",
    "OPTIONS \n",
    "    -- Require all queries to specify school years\n",
    "    (require_partition_filter = TRUE)\n",
    "AS (\n",
    "    SELECT \n",
    "        CourseSectionFactID,\n",
    "        CourseOfferingID,\n",
    "        ProgramID,\n",
    "        CAST(PrimaryInstructorID AS INTEGER),\n",
    "        TermID,\n",
    "    \n",
    "        -- STRING --> DATE\n",
    "        parse_date('%F',FirstClass) AS FirstClass,\n",
    "        parse_date('%F',LastClass) AS LastClass,\n",
    "        NumMeetings,\n",
    "        MeetingHours,\n",
    "        SchoolYearEnd,\n",
    "        TermCode\n",
    "    FROM course_data_warehouse.IMPORT_COURSE_SECTION_FACTS\n",
    "        JOIN course_data_warehouse.TERMS_DIM USING (TermID)\n",
    ");"
   ]
  },
  {
   "cell_type": "markdown",
   "id": "a6dc6bc2-db19-4639-b1b2-ae346ff0a390",
   "metadata": {},
   "source": [
    "### The `CLASS_MEETING_FACTS` Table"
   ]
  },
  {
   "cell_type": "code",
   "execution_count": 18,
   "id": "4414f976-e076-4bfa-8213-f7846aa380b6",
   "metadata": {},
   "outputs": [
    {
     "name": "stderr",
     "output_type": "stream",
     "text": [
      "Query complete after 0.00s: 100%|██████████| 1/1 [00:00<00:00, 933.10query/s] \n"
     ]
    },
    {
     "data": {
      "text/html": [
       "<div>\n",
       "<style scoped>\n",
       "    .dataframe tbody tr th:only-of-type {\n",
       "        vertical-align: middle;\n",
       "    }\n",
       "\n",
       "    .dataframe tbody tr th {\n",
       "        vertical-align: top;\n",
       "    }\n",
       "\n",
       "    .dataframe thead th {\n",
       "        text-align: right;\n",
       "    }\n",
       "</style>\n",
       "<table border=\"1\" class=\"dataframe\">\n",
       "  <thead>\n",
       "    <tr style=\"text-align: right;\">\n",
       "      <th></th>\n",
       "    </tr>\n",
       "  </thead>\n",
       "  <tbody>\n",
       "  </tbody>\n",
       "</table>\n",
       "</div>"
      ],
      "text/plain": [
       "Empty DataFrame\n",
       "Columns: []\n",
       "Index: []"
      ]
     },
     "execution_count": 18,
     "metadata": {},
     "output_type": "execute_result"
    }
   ],
   "source": [
    "%%bigquery\n",
    "DROP TABLE IF EXISTS course_data_warehouse.CLASS_MEETING_FACTS;\n",
    "CREATE TABLE course_data_warehouse.CLASS_MEETING_FACTS (\n",
    "    ClassMeetingFactID INTEGER NOT NULL,\n",
    "    CourseOfferingID INTEGER NOT NULL,\n",
    "    ProgramID INTEGER NOT NULL,\n",
    "    PrimaryInstructorID INTEGER,\n",
    "    LocationID INTEGER,\n",
    "    TimeCodeID INTEGER,\n",
    "    TermID INTEGER,\n",
    "    ClassDate DATE,\n",
    "    SchoolYearEnd INTEGER,\n",
    "    TermCode STRING\n",
    ") \n",
    "PARTITION BY\n",
    "    RANGE_BUCKET(SchoolYearEnd, GENERATE_ARRAY(2015,2040,1))\n",
    "CLUSTER BY\n",
    "    TermCode\n",
    "OPTIONS \n",
    "    (require_partition_filter = TRUE)\n",
    "AS (\n",
    "    SELECT \n",
    "        ClassMeetingFactID,\n",
    "        CourseOfferingID,\n",
    "        ProgramID,\n",
    "    \n",
    "        -- FLOAT --> INTEGER\n",
    "        CAST(PrimaryInstructorID AS INTEGER) AS PrimaryInstructorID,\n",
    "        CAST(LocationID AS INTEGER) AS LocationID,\n",
    "        CAST(TimeCodeID AS INTEGER) AS TimeCodeID,\n",
    "        TermID,\n",
    "    \n",
    "       -- STRING --> DATE\n",
    "        parse_date('%F',ClassDate) AS ClassDate,\n",
    "        \n",
    "        SchoolYearEnd INTEGER,\n",
    "        TermCode STRING\n",
    "    FROM course_data_warehouse.IMPORT_CLASS_MEETING_FACTS\n",
    "    JOIN course_data_warehouse.TERMS_DIM USING (TermID)\n",
    ");"
   ]
  },
  {
   "cell_type": "markdown",
   "id": "9e80154b-2f60-4e3d-b62e-6f0f418b4203",
   "metadata": {},
   "source": [
    "## **Cleanup**"
   ]
  },
  {
   "cell_type": "code",
   "execution_count": 19,
   "id": "a06edd4e-d284-4f86-be8f-eb0bb51c1902",
   "metadata": {},
   "outputs": [
    {
     "name": "stderr",
     "output_type": "stream",
     "text": [
      "Query complete after 0.00s: 100%|██████████| 1/1 [00:00<00:00, 863.38query/s] \n"
     ]
    },
    {
     "data": {
      "text/html": [
       "<div>\n",
       "<style scoped>\n",
       "    .dataframe tbody tr th:only-of-type {\n",
       "        vertical-align: middle;\n",
       "    }\n",
       "\n",
       "    .dataframe tbody tr th {\n",
       "        vertical-align: top;\n",
       "    }\n",
       "\n",
       "    .dataframe thead th {\n",
       "        text-align: right;\n",
       "    }\n",
       "</style>\n",
       "<table border=\"1\" class=\"dataframe\">\n",
       "  <thead>\n",
       "    <tr style=\"text-align: right;\">\n",
       "      <th></th>\n",
       "    </tr>\n",
       "  </thead>\n",
       "  <tbody>\n",
       "  </tbody>\n",
       "</table>\n",
       "</div>"
      ],
      "text/plain": [
       "Empty DataFrame\n",
       "Columns: []\n",
       "Index: []"
      ]
     },
     "execution_count": 19,
     "metadata": {},
     "output_type": "execute_result"
    }
   ],
   "source": [
    "%%bigquery\n",
    "DROP TABLE IF EXISTS course_data_warehouse.IMPORT_PROGRAMS_DIM;\n",
    "DROP TABLE IF EXISTS course_data_warehouse.IMPORT_LOCATIONS_DIM;\n",
    "DROP TABLE IF EXISTS course_data_warehouse.IMPORT_DAYS_OF_WEEK_UTIL;\n",
    "DROP TABLE IF EXISTS course_data_warehouse.IMPORT_TERMS_DIM;\n",
    "DROP TABLE IF EXISTS course_data_warehouse.IMPORT_TIMECODES_DIM;\n",
    "DROP TABLE IF EXISTS course_data_warehouse.IMPORT_TIME_SEGMENTS_UTIL;\n",
    "DROP TABLE IF EXISTS course_data_warehouse.IMPORT_TIMECODE_SEGMENTS_INTERSECT;\n",
    "DROP TABLE IF EXISTS course_data_warehouse.IMPORT_INSTRUCTORS_DIM;\n",
    "DROP TABLE IF EXISTS course_data_warehouse.IMPORT_COURSE_OFFERINGS_DIM;\n",
    "DROP TABLE IF EXISTS course_data_warehouse.IMPORT_CLASS_MEETING_FACTS;\n",
    "DROP TABLE IF EXISTS course_data_warehouse.IMPORT_COURSE_SECTION_FACTS;"
   ]
  },
  {
   "cell_type": "code",
   "execution_count": null,
   "id": "4468db0a-c10c-4c34-9b0e-03696952f7c6",
   "metadata": {},
   "outputs": [],
   "source": []
  }
 ],
 "metadata": {
  "kernelspec": {
   "display_name": "Python 3 (ipykernel)",
   "language": "python",
   "name": "python3"
  },
  "language_info": {
   "codemirror_mode": {
    "name": "ipython",
    "version": 3
   },
   "file_extension": ".py",
   "mimetype": "text/x-python",
   "name": "python",
   "nbconvert_exporter": "python",
   "pygments_lexer": "ipython3",
   "version": "3.8.15"
  }
 },
 "nbformat": 4,
 "nbformat_minor": 5
}
